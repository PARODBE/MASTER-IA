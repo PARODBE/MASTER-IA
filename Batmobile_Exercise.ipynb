{
  "nbformat": 4,
  "nbformat_minor": 0,
  "metadata": {
    "colab": {
      "name": "Batmobile Exercise.ipynb",
      "provenance": [],
      "collapsed_sections": [],
      "include_colab_link": true
    },
    "kernelspec": {
      "name": "python3",
      "display_name": "Python 3"
    }
  },
  "cells": [
    {
      "cell_type": "markdown",
      "metadata": {
        "id": "view-in-github",
        "colab_type": "text"
      },
      "source": [
        "<a href=\"https://colab.research.google.com/github/PARODBE/MASTER-IA/blob/main/Batmobile_Exercise.ipynb\" target=\"_parent\"><img src=\"https://colab.research.google.com/assets/colab-badge.svg\" alt=\"Open In Colab\"/></a>"
      ]
    },
    {
      "cell_type": "markdown",
      "metadata": {
        "id": "z0cyQ1vfkzzt"
      },
      "source": [
        "Hi Guys Cristopher Nolan is here. Don't talk about this, but I am making a new Batman movie and I need your help to design the new Batmobile. For this ocassion I would like you to design it as several Python Classes.\n",
        "\n",
        "Design the main Batmobile class with the following attributes: Pilot (It could be Batman or Robin), number of batrockets loaded, number of pem (this are electromagnetic pulses to counter the Joker weapons) uses left, liters of gas left in the batmobile.\n",
        "\n",
        "Add the following methods to the Batmobile class: A method to accelerate the batmobile and drive for some distance, a method to activate the turbo and drive for some distance faster than the normal method, a method to launch a rocket to a Joker colleague, a method to launch a pem use.\n",
        "\n",
        "Create the following classes to interact with the Batmobile: Joker, Joker Villain, Rocket, PEM Pulse.\n",
        "\n",
        "The Joker and Jokker Villain class should have a parameter called KO which will turn to True when they receive a Rocket. They also have a parameter called Weapon which should turn to false if they receive a PEM Pulse.\n",
        "\n",
        "The Rocket and PEM Pulse are the ammunition of the Batmobile, the car can only use the weapons if it has ammunition in the arsenal. Si se quedan sin munición\n",
        "\n",
        "Finally draw a diagram of the classes using diagram.io showing how they interact.\n",
        "\n",
        "Se propone la siguiente distribución de la carga de trabajo:\n",
        "\n",
        "Un estudiante podría diseñar la clase del batmóvil. Mientras sus dos compañeros podrían desarrollar las clases relacionadas con el armamento del mismo y los distintos villanos descritos.\n",
        "Una vez desarrolladas las piezas de código por separado se procedería a la integración en equipo de todo el sistema.\n",
        "Uno de los estudiantes (aquel con menor carga en programación) desarrollaría el diagrama de la pieza de software."
      ]
    },
    {
      "cell_type": "markdown",
      "metadata": {
        "id": "lLJfRF942rPp"
      },
      "source": [
        "![Batmovil.png](data:image/png;base64,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)"
      ]
    },
    {
      "cell_type": "code",
      "metadata": {
        "id": "dM-zMbUdj0vG"
      },
      "source": [
        "import random as rnd\n",
        "\n",
        "class Rocket:\n",
        "  def __init__(self):\n",
        "    self.Used = False\n",
        "\n",
        "class PEM_Pulse:\n",
        "  def __init__(self):\n",
        "    self.Used = False\n",
        "\n",
        "class Joker:\n",
        "  def __init__(self):\n",
        "    self.KO = False\n",
        "    self.Weapon = True\n",
        "\n",
        "\n",
        "class Joker_Villain:\n",
        "  def __init__(self):\n",
        "    self.KO = False\n",
        "    self.Weapon = True\n",
        "\n",
        "\n",
        "class Pilot:\n",
        "  def __init__(self, pilot):\n",
        "    self.pilot=pilot\n",
        "\n",
        "  def describe_pilot(self):\n",
        "    print('Hi Alfred, please confirm who is driving the Batmobile.')\n",
        "    print(f'Ok, the pilot is {self.pilot}.')\n",
        "\n",
        "\n",
        "class Tank:\n",
        "  def __init__(self,balance=0):\n",
        "    self.balance = balance\n",
        "\n",
        "  def _gas_consume(self, amount):\n",
        "    self.balance -= amount\n",
        "\n",
        "  def refueling(self, amount):\n",
        "    self.balance += amount\n",
        "\n",
        "  def gas_describe(self):\n",
        "    print(f'Alfred, we only have {self.balance} liters of gasoline left. Please tell me how long I have to get to the Batcave.')\n",
        "\n",
        "    \n",
        "class Batmobile:\n",
        "  def __init__(self, pilot=Pilot('Batman'), tank=Tank(100)):\n",
        "    #Asignacion\n",
        "    self.pilot = pilot\n",
        "    self.tank = tank\n",
        "    self._list_rockets = []\n",
        "    self._list_pem = []\n",
        "\n",
        "\n",
        "    # Initialitation\n",
        "    self.velocity = 0\n",
        "    self.orientation = [0]\n",
        "    self.distance = [0]\n",
        "\n",
        "    for i in range(rnd.randrange(2,20,2)):\n",
        "      self._list_rockets.append(Rocket())\n",
        "\n",
        "    for i in range(rnd.randrange(1,5,1)):\n",
        "      self._list_pem.append(PEM_Pulse())\n",
        "\n",
        "    # Car Specs\n",
        "    self.turbo_secs = 20\n",
        "    self.vel_limit = 55 #In m/s -> Around 200 km/h\n",
        "    self.consumption = 6e-4 #In L/m -> Around 60 L/100km\n",
        "\n",
        "  # Movement-related methods: _gas_consume, drive (straight), turn (change of orientation), accelerate, turbo, describe_traj\n",
        "\n",
        "  def accelerate(self, a, t):\n",
        "    new_vel = self.velocity+a*t\n",
        "    if new_vel>self.vel_limit:\n",
        "      t = (self.vel_limit-self.velocity)/a\n",
        "      new_vel = self.vel_limit\n",
        "      print('Alert: Speed limit reached.')\n",
        "    self.drive(t,a)\n",
        "    self.velocity = new_vel\n",
        "\n",
        "  def _gas_consume(self, metres):\n",
        "    cons = metres*self.consumption\n",
        "    if cons>self.tank.balance:\n",
        "      cons = self.vel_limit\n",
        "      print('Alert: Run out of gas.')\n",
        "      self.accelerate(-2,self.velocity/2) \n",
        "    self.tank._gas_consume(cons)\n",
        "    print(f'Remaining gas: {self.tank.balance} L.')\n",
        "    return cons/self.consumption\n",
        "  \n",
        "  def drive(self, t, a=0):\n",
        "    dist = self.velocity*t+a*t**2\n",
        "    dist = self._gas_consume(dist)\n",
        "    self.distance.append(dist)\n",
        "    self.orientation.append(self.orientation[-1])\n",
        "  \n",
        "  def turn(self, degree):\n",
        "    new_or = self.orientation[-1]+degree%360\n",
        "    self.orientation.append(new_or)\n",
        "    self.distance.append(0)\n",
        "\n",
        "  def turbo(self, seconds):\n",
        "    if self.turbo_secs==0:\n",
        "      print('Alert: Run out of turbo.')\n",
        "    else:\n",
        "      if self.turbo_secs<seconds:\n",
        "        seconds=self.turbo_secs\n",
        "      self.turbo_secs -= seconds\n",
        "      self.velocity *= 2\n",
        "      self.drive(seconds)\n",
        "      vel = self.velocity*2.23694\n",
        "      print(f'Alfred, the Batmobile is going to freak out! When I put the Nitro, it catches {round(vel)} miles per hour!')\n",
        "      self.velocity /= 2\n",
        "      print(f'Remaining turbo activation time: {self.turbo_secs} s.')\n",
        "\n",
        "  def describe_traj(self):\n",
        "    print(f'The vector of traveled distance is: {self.distance} (meters).')\n",
        "    print(f'The vector of orientation is: {self.orientation} (degrees).')\n",
        "\n",
        "  # Weapon-related methods: launch_rocket and launch_pem\n",
        "\n",
        "  def Launch_Rocket(self, target):\n",
        "    if (isinstance(target, (Joker, Joker_Villain))):\n",
        "      self.n_rockets = len(self._list_rockets)\n",
        "      for rocket in self._list_rockets:\n",
        "        if (not rocket.Used):\n",
        "          rocket.Used = True\n",
        "          target.KO = True\n",
        "          print(\"Target eliminated.\")\n",
        "          break\n",
        "        else:\n",
        "          self.n_rockets -= 1\n",
        "          if (self.n_rockets <= 0):\n",
        "            print(\"Alert: Run out of BatRocket ammo.\")\n",
        "\n",
        "    else:\n",
        "      print(\"Wrong target.\")\n",
        "\n",
        "  def Launch_PEM(self, target):\n",
        "    if (isinstance(target, (Joker, Joker_Villian))):\n",
        "      self.n_PEM = len(self._list_pem)\n",
        "      for pem in self._list_pem:\n",
        "        if (not pem.Used):\n",
        "          pem.Used = True\n",
        "          target.Weapon = False\n",
        "          print(\"Weapons neutralized.\")\n",
        "          break\n",
        "        else:\n",
        "          self.n_PEM -= 1\n",
        "          if (self.n_rockets <= 0):\n",
        "            print(\"Alert: Run out of BatPEM pulses.\")\n"
      ],
      "execution_count": null,
      "outputs": []
    },
    {
      "cell_type": "code",
      "metadata": {
        "id": "7fsPEl0FlWu_"
      },
      "source": [
        "# Initialitation: default pilot->Batman, default tank->100 L\n",
        "tank1 = Tank(100)\n",
        "tank2 = Tank(100)\n",
        "car1 = Batmobile(tank=tank1)\n",
        "car2 = Batmobile(pilot=Pilot('Robin'),tank=tank2)"
      ],
      "execution_count": null,
      "outputs": []
    },
    {
      "cell_type": "code",
      "metadata": {
        "id": "99NG4Pb0zgIL",
        "outputId": "303c7a18-9198-484b-fe0b-f1ae06771ba9",
        "colab": {
          "base_uri": "https://localhost:8080/"
        }
      },
      "source": [
        "car1.tank.balance"
      ],
      "execution_count": null,
      "outputs": [
        {
          "output_type": "execute_result",
          "data": {
            "text/plain": [
              "100"
            ]
          },
          "metadata": {
            "tags": []
          },
          "execution_count": 23
        }
      ]
    },
    {
      "cell_type": "code",
      "metadata": {
        "id": "CiQ36Mx0iEPJ",
        "outputId": "2f1fcd55-66e7-49bc-ff97-dd4f9056d965",
        "colab": {
          "base_uri": "https://localhost:8080/"
        }
      },
      "source": [
        "car1.pilot.describe_pilot()\n",
        "car2.pilot.describe_pilot()"
      ],
      "execution_count": null,
      "outputs": [
        {
          "output_type": "stream",
          "text": [
            "Hi Alfred, please confirm who is driving the Batmobile.\n",
            "Ok, the pilot is Batman.\n",
            "Hi Alfred, please confirm who is driving the Batmobile.\n",
            "Ok, the pilot is Robin.\n"
          ],
          "name": "stdout"
        }
      ]
    },
    {
      "cell_type": "code",
      "metadata": {
        "id": "1HV3rKy_tDOD",
        "outputId": "66461296-1388-4574-b930-1577c7ea40d6",
        "colab": {
          "base_uri": "https://localhost:8080/"
        }
      },
      "source": [
        "# Initial L of gasoline and velocity\n",
        "print(f'Litres of gasoline: {car1.tank.balance} L.')\n",
        "print(f'Initial velocity: {car1.velocity} m/s.')"
      ],
      "execution_count": null,
      "outputs": [
        {
          "output_type": "stream",
          "text": [
            "Litres of gasoline: 100 L.\n",
            "Initial velocity: 0 m/s.\n"
          ],
          "name": "stdout"
        }
      ]
    },
    {
      "cell_type": "code",
      "metadata": {
        "id": "8Rj5y137yiu2",
        "outputId": "d73ad95d-3e5f-4dae-f2d9-50493000d580",
        "colab": {
          "base_uri": "https://localhost:8080/"
        }
      },
      "source": [
        "# If we try to drive now, we wont move since the velocity is 0, so we wont consume gas. The input is in seconds.\n",
        "car1.drive(10)"
      ],
      "execution_count": null,
      "outputs": [
        {
          "output_type": "stream",
          "text": [
            "Remaining gas: 100.0 L.\n"
          ],
          "name": "stdout"
        }
      ]
    },
    {
      "cell_type": "code",
      "metadata": {
        "id": "GUeDxvmwphPq",
        "outputId": "001ce9c2-f1dc-4f61-cd16-a27656638c7c",
        "colab": {
          "base_uri": "https://localhost:8080/"
        }
      },
      "source": [
        "# Then we have to increase velocity: accelerate at a=10 m/s^2 during 3 s\n",
        "car1.accelerate(10,3)\n",
        "print(f'Velocity after accelerating: {car1.velocity} m/s.')"
      ],
      "execution_count": null,
      "outputs": [
        {
          "output_type": "stream",
          "text": [
            "Remaining gas: 99.946 L.\n",
            "Velocity after accelerating: 30 m/s.\n"
          ],
          "name": "stdout"
        }
      ]
    },
    {
      "cell_type": "code",
      "metadata": {
        "id": "YYIa74Zd0r9s",
        "outputId": "088f4fb9-402c-43b2-c309-3650488b9cc1",
        "colab": {
          "base_uri": "https://localhost:8080/"
        }
      },
      "source": [
        "car1.drive(100)"
      ],
      "execution_count": null,
      "outputs": [
        {
          "output_type": "stream",
          "text": [
            "Remaining gas: 98.146 L.\n"
          ],
          "name": "stdout"
        }
      ]
    },
    {
      "cell_type": "code",
      "metadata": {
        "id": "rxt_S5d_1LYZ",
        "outputId": "b1d860cc-91cf-4cb9-99f1-1a3d592fb3be",
        "colab": {
          "base_uri": "https://localhost:8080/"
        }
      },
      "source": [
        "# We have introduced a method for turning a given angle:\n",
        "car1.turn(45)\n",
        "car1.drive(225)\n",
        "car1.turn(45)\n",
        "car1.accelerate(5,2)"
      ],
      "execution_count": null,
      "outputs": [
        {
          "output_type": "stream",
          "text": [
            "Remaining gas: 94.096 L.\n",
            "Remaining gas: 94.048 L.\n"
          ],
          "name": "stdout"
        }
      ]
    },
    {
      "cell_type": "code",
      "metadata": {
        "id": "oTcRnGXt6hvt",
        "outputId": "47e90fa5-481e-4bcf-d415-c0e76f96ee82",
        "colab": {
          "base_uri": "https://localhost:8080/"
        }
      },
      "source": [
        "# Let us check the trajectory of the batmobile. The first vector gives us the discante traveled and the orientation one the direction the car is facing\n",
        "car1.describe_traj()"
      ],
      "execution_count": null,
      "outputs": [
        {
          "output_type": "stream",
          "text": [
            "The vector of traveled distance is: [0, 0.0, 90.0, 3000.0, 0, 6750.0, 0, 80.0] (meters).\n",
            "The vector of orientation is: [0, 0, 0, 0, 45, 45, 90, 90] (degrees).\n"
          ],
          "name": "stdout"
        }
      ]
    },
    {
      "cell_type": "code",
      "metadata": {
        "id": "LYGGssp6lHZY",
        "outputId": "0ce4a4ce-8c2d-4b3c-f525-6f9925fb99f9",
        "colab": {
          "base_uri": "https://localhost:8080/"
        }
      },
      "source": [
        "car1.accelerate(10,2)"
      ],
      "execution_count": null,
      "outputs": [
        {
          "output_type": "stream",
          "text": [
            "Alert: Speed limit reached.\n",
            "Remaining gas: 93.9985 L.\n"
          ],
          "name": "stdout"
        }
      ]
    },
    {
      "cell_type": "code",
      "metadata": {
        "id": "iuVcrhKpngwm",
        "outputId": "bcff7a57-cac1-4d0a-9051-b282ccb97a54",
        "colab": {
          "base_uri": "https://localhost:8080/"
        }
      },
      "source": [
        "# The speed limit can be overcame with turbo\n",
        "car1.velocity\n",
        "car1.turbo(5)"
      ],
      "execution_count": null,
      "outputs": [
        {
          "output_type": "stream",
          "text": [
            "Remaining gas: 93.66850000000001 L.\n",
            "Alfred, the Batmobile is going to freak out! When I put the Nitro, it catches 246 miles per hour!\n",
            "Remaining turbo activation time: 15 s.\n"
          ],
          "name": "stdout"
        }
      ]
    },
    {
      "cell_type": "code",
      "metadata": {
        "id": "ak-v6XAMoMLD"
      },
      "source": [
        "# Villains initialization\n",
        "joker = Joker()\n",
        "jok_vill_1 = Joker_Villain()\n",
        "jok_vill_2 = Joker_Villain()\n",
        "jok_vill_3 = Joker_Villain()"
      ],
      "execution_count": null,
      "outputs": []
    },
    {
      "cell_type": "code",
      "metadata": {
        "id": "dOw7R3Ek6gRc",
        "outputId": "ad1ebef9-a845-4050-cb0c-3ea569cc2f1a",
        "colab": {
          "base_uri": "https://localhost:8080/"
        }
      },
      "source": [
        "car1.Launch_Rocket('Random villager')"
      ],
      "execution_count": null,
      "outputs": [
        {
          "output_type": "stream",
          "text": [
            "Wrong target.\n"
          ],
          "name": "stdout"
        }
      ]
    },
    {
      "cell_type": "code",
      "metadata": {
        "id": "iZlNeHNZ3o_h",
        "outputId": "3c647bb3-e8b9-4c2c-be45-b8d929492a17",
        "colab": {
          "base_uri": "https://localhost:8080/"
        }
      },
      "source": [
        "print(f'KO status: {jok_vill_2.KO}')\n",
        "print(f'Weapon status: {jok_vill_2.Weapon}')\n",
        "car1.Launch_Rocket(jok_vill_2)\n",
        "print(f'KO status {jok_vill_2.KO}')"
      ],
      "execution_count": null,
      "outputs": [
        {
          "output_type": "stream",
          "text": [
            "KO status: False\n",
            "Weapon status: True\n",
            "Target eliminated.\n",
            "KO status True\n"
          ],
          "name": "stdout"
        }
      ]
    }
  ]
}
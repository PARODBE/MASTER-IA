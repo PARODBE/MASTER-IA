{
  "nbformat": 4,
  "nbformat_minor": 0,
  "metadata": {
    "colab": {
      "name": "PruebaML.ipynb",
      "provenance": [],
      "collapsed_sections": [],
      "authorship_tag": "ABX9TyOk1vndLgD/Q5nk5Ed05rCj",
      "include_colab_link": true
    },
    "kernelspec": {
      "name": "python3",
      "display_name": "Python 3"
    }
  },
  "cells": [
    {
      "cell_type": "markdown",
      "metadata": {
        "id": "view-in-github",
        "colab_type": "text"
      },
      "source": [
        "<a href=\"https://colab.research.google.com/github/PARODBE/MASTER-IA/blob/main/PruebaML.ipynb\" target=\"_parent\"><img src=\"https://colab.research.google.com/assets/colab-badge.svg\" alt=\"Open In Colab\"/></a>"
      ]
    },
    {
      "cell_type": "code",
      "metadata": {
        "id": "6-_IpObwn-86"
      },
      "source": [
        "class ClasePrueba:\n",
        "  pass"
      ],
      "execution_count": 1,
      "outputs": []
    },
    {
      "cell_type": "code",
      "metadata": {
        "id": "dcbntx_hs4U8"
      },
      "source": [
        "class Manzana:\n",
        "  def __init__(self, color, peso, tipo):\n",
        "    self.color= color\n",
        "    self.peso = peso\n",
        "    self._tipo= tipo\n",
        "  def describe_man(self):\n",
        "    print(f\"La manzana que he comprado es de color {self.color}, pesa {self.peso} gramos y es del tipo {self.tipo}\")"
      ],
      "execution_count": 29,
      "outputs": []
    },
    {
      "cell_type": "code",
      "metadata": {
        "id": "onGWKp10tKji"
      },
      "source": [
        "man_1 = Manzana(color='rojo', peso=150, tipo='golden')\n",
        "man_2 = Manzana(color='verde', peso=135, tipo='fuji')"
      ],
      "execution_count": 30,
      "outputs": []
    },
    {
      "cell_type": "code",
      "metadata": {
        "id": "36zddSakx9JX",
        "outputId": "1c99b99f-b76c-4347-f977-5c4e262d730c",
        "colab": {
          "base_uri": "https://localhost:8080/",
          "height": 34
        }
      },
      "source": [
        "man_1.describe_man()"
      ],
      "execution_count": 56,
      "outputs": [
        {
          "output_type": "stream",
          "text": [
            "La manzana que he comprado es de color rojo y pesa 150 gramos\n"
          ],
          "name": "stdout"
        }
      ]
    },
    {
      "cell_type": "code",
      "metadata": {
        "id": "JZTKnn7t7CAR"
      },
      "source": [
        "class Manzana:\n",
        "  def __init__(self, color, peso):\n",
        "    self.color= color\n",
        "    self.peso = peso\n",
        "    self._tipo= 'Estoy escondido=)'\n",
        "  def describe_man(self):\n",
        "    print(f\"La manzana que he comprado es de color {self.color} y pesa {self.peso} gramos\")\n",
        "  def vende_man(self, cajero, precio):\n",
        "    print(f\"Hola buenas tardes soy {cajero}\")\n",
        "    self.describe_man()\n",
        "    print(f\"además su precio desde el COVID ha subido y es de {precio}\")# este ejercicio es para esconde el tipo"
      ],
      "execution_count": 96,
      "outputs": []
    },
    {
      "cell_type": "code",
      "metadata": {
        "id": "mNous29Q7bcs",
        "outputId": "f61605b7-2ce6-4365-96f7-4385fb4fb6d6",
        "colab": {
          "base_uri": "https://localhost:8080/",
          "height": 68
        }
      },
      "source": [
        "man_1 = Manzana(color='rojo', peso=150)\n",
        "man_2 = Manzana(color='verde', peso=135)\n",
        "man_1.vende_man(cajero=\"Juan Roig\", precio=\"0.25 euros\")"
      ],
      "execution_count": 100,
      "outputs": [
        {
          "output_type": "stream",
          "text": [
            "Hola buenas tardes soy Juan Roig\n",
            "La manzana que he comprado es de color rojo y pesa 150 gramos\n",
            "además su precio desde el COVID ha subido y es de 0.25 euros\n"
          ],
          "name": "stdout"
        }
      ]
    },
    {
      "cell_type": "code",
      "metadata": {
        "id": "VnuVzIhG8-sQ"
      },
      "source": [
        "class Basket:\n",
        "  def __init__(self):\n",
        "    self.apple_list = []\n",
        "\n",
        "  def insert_apple(self, manzana):\n",
        "    if isinstance(manzana, Manzana):\n",
        "      self.apple_list.append(manzana)\n",
        "    else:\n",
        "      raise Exception(\"Esto no es una manzana\")\n",
        "\n",
        "  def describe_man(self):\n",
        "    print(f\"Tengo {len(self.apple_list)} manzanas\")\n",
        "    for manzana in self.apple_list:\n",
        "      manzana.describe_man()"
      ],
      "execution_count": 98,
      "outputs": []
    },
    {
      "cell_type": "code",
      "metadata": {
        "id": "p4SePNpYG4le",
        "outputId": "76e2e2c7-03ba-47d9-cae8-6b1f78b44ee6",
        "colab": {
          "base_uri": "https://localhost:8080/",
          "height": 68
        }
      },
      "source": [
        "basket = Basket()\n",
        "basket.insert_apple(man_1)\n",
        "basket.insert_apple(man_2)\n",
        "basket.describe_man()"
      ],
      "execution_count": 101,
      "outputs": [
        {
          "output_type": "stream",
          "text": [
            "Tengo 2 manzanas\n",
            "La manzana que he comprado es de color rojo y pesa 150 gramos\n",
            "La manzana que he comprado es de color verde y pesa 135 gramos\n"
          ],
          "name": "stdout"
        }
      ]
    },
    {
      "cell_type": "code",
      "metadata": {
        "id": "Mpe4K1TgIJOm"
      },
      "source": [
        "\n",
        "class Basket:\n",
        "  def __init__(self):\n",
        "    self.apple_list = []\n",
        "\n",
        "  def insert_apple(self, manzana):\n",
        "    if isinstance(manzana, Manzana):\n",
        "      self.apple_list.append(manzana)\n",
        "    else:\n",
        "      raise Exception(\"Esto no es una manzana\")\n",
        "\n",
        "  def describe_man(self):\n",
        "    print(f\"Tengo {len(self.apple_list)} manzanas\")\n",
        "    for manzana in self.apple_list:\n",
        "      manzana.describe_man()\n",
        "  @staticmethod\n",
        "  def tragon(Manzana):\n",
        "    print(f\"La manzana de color {Manzana.color} se la ha zampado Paco Roig\")"
      ],
      "execution_count": 112,
      "outputs": []
    },
    {
      "cell_type": "code",
      "metadata": {
        "id": "e88xZfbWIlxo",
        "outputId": "d6eab876-574c-4d80-ad4b-3382b0468ef3",
        "colab": {
          "base_uri": "https://localhost:8080/",
          "height": 34
        }
      },
      "source": [
        "basket=Basket()\n",
        "basket.tragon(man_1)"
      ],
      "execution_count": 113,
      "outputs": [
        {
          "output_type": "stream",
          "text": [
            "La manzana de color rojo se la ha zampado Paco Roig\n"
          ],
          "name": "stdout"
        }
      ]
    },
    {
      "cell_type": "code",
      "metadata": {
        "id": "GPzcAr-8Pf4v"
      },
      "source": [
        "#class Basket2:# es otra opción de generar lo de manzanas\n",
        "\n",
        "#def __init__(self, manzanas):\n",
        "    #self.manzanas = []\n",
        "    #for manzana in manzanas:\n",
        "      #if isinstance(manzana, Manzana2):\n",
        "        #self.manzanas.append(manzana)\n",
        "      #else:\n",
        "        #raise Exception(\"manzana no es una clase de tipo Manzana\")\n",
        "\n",
        "#def describe_manzanas(self):\n",
        "    #for manzana in self.manzanas:\n",
        "      #manzana.describe_manzana()"
      ],
      "execution_count": null,
      "outputs": []
    },
    {
      "cell_type": "code",
      "metadata": {
        "id": "S6yQpEldP1Z9"
      },
      "source": [
        "# Ejemplo de una factoria de zumos\n",
        "\n",
        "class Apple:\n",
        "  def __init__(self, weight):\n",
        "    self.weight = weight\n",
        "\n",
        "class Orange:\n",
        "  def __init__(self, weight):\n",
        "    self.weight = weight\n",
        "\n",
        "class Blender:\n",
        "  def __init__(self, list_apples, list_oranges):\n",
        "    for apple in list_apples:\n",
        "      if isinstance(apple, Apple):\n",
        "        pass\n",
        "      else:\n",
        "        raise Exception(\"No todas las frutas son manzanas o naranjas\")\n",
        "    self.list_apples = list_apples\n",
        "    for orange in list_oranges:\n",
        "      if isinstance(orange, Orange):\n",
        "        pass\n",
        "      else:\n",
        "        raise Exception(\"No todas las frutas son manzanas o naranjas\")\n",
        "    self.list_oranges = list_oranges\n",
        "    self.orange_juice = 0\n",
        "    self.apple_juice = 0\n",
        "\n",
        "  def blend_fruit(self, type_fruit='apple'):\n",
        "    if type_fruit == \"apple\":\n",
        "      self._blend_apples()\n",
        "    elif type_fruit == \"orange\":\n",
        "      self._blend_oranges()\n",
        "    else:\n",
        "      raise Exception(\"Está licuadora solo extrae manzanas y naranjas\")\n",
        "\n",
        "  def _blend_apples(self):\n",
        "    # De cada 2 kg de manzanas se extraen 1 de zumo\n",
        "    qty = 0\n",
        "    for apple in self.list_apples:\n",
        "      qty += apple.weight\n",
        "    self.list_apples = []\n",
        "    self.apple_juice = qty/2\n",
        "\n",
        "  def _blend_oranges(self):\n",
        "    # De cada 3 kg de naranjas se extraen 1 de zumo\n",
        "    qty = 0\n",
        "    for orange in self.list_oranges:\n",
        "      qty += orange.weight\n",
        "    self.list_oranges = []\n",
        "    self.orange_juice = qty/3\n",
        "\n",
        "  def bottle_up(self, capacity_bottle, type_juice=\"apple\"):\n",
        "    if type_juice == \"apple\":\n",
        "      bottles = self._bottle_apple_juice(capacity_bottle)\n",
        "    elif type_juice == \"orange\":\n",
        "      bottles = self._bottle_orange_juice(capacity_bottle)\n",
        "    else:\n",
        "      raise Exception(\"Esta licuadora solo contiene naranjas y manzanas\")\n",
        "    return bottles\n",
        "\n",
        "  def _bottle_apple_juice(self, capacity):\n",
        "    list_bottles = []\n",
        "    while self.apple_juice >= capacity:\n",
        "      bottle = Bottle(capacity, \"apple\")\n",
        "      list_bottles.append(bottle)\n",
        "      self.apple_juice += -capacity\n",
        "    return list_bottles\n",
        "\n",
        "  def _bottle_orange_juice(self, capacity):\n",
        "    list_bottles = []\n",
        "    while self.orange_juice >= capacity:\n",
        "      bottle = Bottle(capacity, \"orange\")\n",
        "      list_bottles.append(bottle)\n",
        "      self.orange_juice += -capacity\n",
        "    return list_bottles\n",
        "\n",
        "\n",
        "class Bottle:\n",
        "  def __init__(self, capacity, label):\n",
        "    self.capacity = capacity\n",
        "    self.label = label"
      ],
      "execution_count": 114,
      "outputs": []
    },
    {
      "cell_type": "code",
      "metadata": {
        "id": "YtNN01__ajVQ"
      },
      "source": [
        "list_apples = [Apple(10), Apple(5), Apple(4)]\n",
        "list_oranges = [Orange(8), Orange(3), Orange(25)]\n",
        "\n",
        "blender = Blender(list_apples, list_oranges)"
      ],
      "execution_count": 115,
      "outputs": []
    },
    {
      "cell_type": "code",
      "metadata": {
        "id": "es1rhBS9akLV"
      },
      "source": [
        "blender.blend_fruit()"
      ],
      "execution_count": 116,
      "outputs": []
    },
    {
      "cell_type": "code",
      "metadata": {
        "id": "GJOd5r3lame-",
        "outputId": "6b7a253e-7638-499a-9040-e1f0bb845cee",
        "colab": {
          "base_uri": "https://localhost:8080/",
          "height": 34
        }
      },
      "source": [
        "blender.apple_juice"
      ],
      "execution_count": 117,
      "outputs": [
        {
          "output_type": "execute_result",
          "data": {
            "text/plain": [
              "9.5"
            ]
          },
          "metadata": {
            "tags": []
          },
          "execution_count": 117
        }
      ]
    },
    {
      "cell_type": "code",
      "metadata": {
        "id": "77cPZLlhapDA"
      },
      "source": [
        "blender.blend_fruit(type_fruit=\"orange\")"
      ],
      "execution_count": 118,
      "outputs": []
    },
    {
      "cell_type": "code",
      "metadata": {
        "id": "G2gy_ZtharV9",
        "outputId": "f7347b10-2b20-4772-e970-ed319e3eee7f",
        "colab": {
          "base_uri": "https://localhost:8080/",
          "height": 34
        }
      },
      "source": [
        "blender.orange_juice"
      ],
      "execution_count": 119,
      "outputs": [
        {
          "output_type": "execute_result",
          "data": {
            "text/plain": [
              "12.0"
            ]
          },
          "metadata": {
            "tags": []
          },
          "execution_count": 119
        }
      ]
    },
    {
      "cell_type": "code",
      "metadata": {
        "id": "iDhUJSj6at3I"
      },
      "source": [
        "apple_bottles = blender.bottle_up(1.3)"
      ],
      "execution_count": 120,
      "outputs": []
    },
    {
      "cell_type": "code",
      "metadata": {
        "id": "YHKQHiEwaw9E",
        "outputId": "97a23283-4e12-41b4-c7ad-ebcdd7194691",
        "colab": {
          "base_uri": "https://localhost:8080/",
          "height": 136
        }
      },
      "source": [
        "apple_bottles"
      ],
      "execution_count": 121,
      "outputs": [
        {
          "output_type": "execute_result",
          "data": {
            "text/plain": [
              "[<__main__.Bottle at 0x7f1c9e9b1518>,\n",
              " <__main__.Bottle at 0x7f1c9e9b1828>,\n",
              " <__main__.Bottle at 0x7f1c9e9b1c18>,\n",
              " <__main__.Bottle at 0x7f1c9e9b1a58>,\n",
              " <__main__.Bottle at 0x7f1c9e9b1668>,\n",
              " <__main__.Bottle at 0x7f1c9e9b1940>,\n",
              " <__main__.Bottle at 0x7f1c9ea1f320>]"
            ]
          },
          "metadata": {
            "tags": []
          },
          "execution_count": 121
        }
      ]
    },
    {
      "cell_type": "code",
      "metadata": {
        "id": "1JrDYAaea0tK",
        "outputId": "a06f5124-75da-45c7-9c09-58aebb6240b5",
        "colab": {
          "base_uri": "https://localhost:8080/",
          "height": 34
        }
      },
      "source": [
        "blender.apple_juice"
      ],
      "execution_count": 122,
      "outputs": [
        {
          "output_type": "execute_result",
          "data": {
            "text/plain": [
              "0.3999999999999999"
            ]
          },
          "metadata": {
            "tags": []
          },
          "execution_count": 122
        }
      ]
    },
    {
      "cell_type": "code",
      "metadata": {
        "id": "V76CkVXaa3hM"
      },
      "source": [
        "orange_bottles = blender.bottle_up(1.5, type_juice=\"orange\")"
      ],
      "execution_count": 123,
      "outputs": []
    },
    {
      "cell_type": "code",
      "metadata": {
        "id": "VyeAEsbJa5jE",
        "outputId": "33a1b973-6479-4281-ce74-f2d70337e292",
        "colab": {
          "base_uri": "https://localhost:8080/",
          "height": 153
        }
      },
      "source": [
        "orange_bottles"
      ],
      "execution_count": 124,
      "outputs": [
        {
          "output_type": "execute_result",
          "data": {
            "text/plain": [
              "[<__main__.Bottle at 0x7f1c96c3dc18>,\n",
              " <__main__.Bottle at 0x7f1c96c3d518>,\n",
              " <__main__.Bottle at 0x7f1c96c3d630>,\n",
              " <__main__.Bottle at 0x7f1c96c3d080>,\n",
              " <__main__.Bottle at 0x7f1c96c3d588>,\n",
              " <__main__.Bottle at 0x7f1c96c3d470>,\n",
              " <__main__.Bottle at 0x7f1c9e9b60f0>,\n",
              " <__main__.Bottle at 0x7f1c9e9b60b8>]"
            ]
          },
          "metadata": {
            "tags": []
          },
          "execution_count": 124
        }
      ]
    },
    {
      "cell_type": "code",
      "metadata": {
        "id": "RHbQo9Pha7mZ",
        "outputId": "6a19ed62-8795-44fd-bcfc-aa1e1c3b8680",
        "colab": {
          "base_uri": "https://localhost:8080/",
          "height": 34
        }
      },
      "source": [
        "blender.orange_juice"
      ],
      "execution_count": 125,
      "outputs": [
        {
          "output_type": "execute_result",
          "data": {
            "text/plain": [
              "0.0"
            ]
          },
          "metadata": {
            "tags": []
          },
          "execution_count": 125
        }
      ]
    }
  ]
}
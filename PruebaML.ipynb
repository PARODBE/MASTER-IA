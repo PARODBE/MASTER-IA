{
  "nbformat": 4,
  "nbformat_minor": 0,
  "metadata": {
    "colab": {
      "name": "PruebaML.ipynb",
      "provenance": [],
      "collapsed_sections": [],
      "authorship_tag": "ABX9TyPyJR7aQK4p9QJgl8kc4+9Q",
      "include_colab_link": true
    },
    "kernelspec": {
      "name": "python3",
      "display_name": "Python 3"
    }
  },
  "cells": [
    {
      "cell_type": "markdown",
      "metadata": {
        "id": "view-in-github",
        "colab_type": "text"
      },
      "source": [
        "<a href=\"https://colab.research.google.com/github/PARODBE/MASTER-IA/blob/main/PruebaML.ipynb\" target=\"_parent\"><img src=\"https://colab.research.google.com/assets/colab-badge.svg\" alt=\"Open In Colab\"/></a>"
      ]
    },
    {
      "cell_type": "code",
      "metadata": {
        "id": "6-_IpObwn-86"
      },
      "source": [
        "class ClasePrueba:\n",
        "  pass"
      ],
      "execution_count": 1,
      "outputs": []
    },
    {
      "cell_type": "code",
      "metadata": {
        "id": "dcbntx_hs4U8"
      },
      "source": [
        "class Manzana:\n",
        "  def __init__(self, color, peso, tipo):\n",
        "    self.color= color\n",
        "    self.peso = peso\n",
        "    self._tipo= tipo\n",
        "  def describe_man(self):\n",
        "    print(f\"La manzana que he comprado es de color {self.color}, pesa {self.peso} gramos y es del tipo {self.tipo}\")"
      ],
      "execution_count": 29,
      "outputs": []
    },
    {
      "cell_type": "code",
      "metadata": {
        "id": "onGWKp10tKji"
      },
      "source": [
        "man_1 = Manzana(color='rojo', peso=150, tipo='golden')\n",
        "man_2 = Manzana(color='verde', peso=135, tipo='fuji')"
      ],
      "execution_count": 30,
      "outputs": []
    },
    {
      "cell_type": "code",
      "metadata": {
        "id": "36zddSakx9JX",
        "outputId": "1c99b99f-b76c-4347-f977-5c4e262d730c",
        "colab": {
          "base_uri": "https://localhost:8080/",
          "height": 34
        }
      },
      "source": [
        "man_1.describe_man()"
      ],
      "execution_count": 56,
      "outputs": [
        {
          "output_type": "stream",
          "text": [
            "La manzana que he comprado es de color rojo y pesa 150 gramos\n"
          ],
          "name": "stdout"
        }
      ]
    },
    {
      "cell_type": "code",
      "metadata": {
        "id": "JZTKnn7t7CAR"
      },
      "source": [
        "class Manzana:\n",
        "  def __init__(self, color, peso):\n",
        "    self.color= color\n",
        "    self.peso = peso\n",
        "    self._tipo= 'Estoy escondido=)'\n",
        "  def describe_man(self):\n",
        "    print(f\"La manzana que he comprado es de color {self.color} y pesa {self.peso} gramos\")\n",
        "  def vende_man(self, cajero, precio):\n",
        "    print(f\"Hola buenas tardes soy {cajero}\")\n",
        "    self.describe_man()\n",
        "    print(f\"además su precio desde el COVID ha subido y es de {precio}\")# este ejercicio es para esconde el tipo"
      ],
      "execution_count": 96,
      "outputs": []
    },
    {
      "cell_type": "code",
      "metadata": {
        "id": "mNous29Q7bcs",
        "outputId": "f61605b7-2ce6-4365-96f7-4385fb4fb6d6",
        "colab": {
          "base_uri": "https://localhost:8080/",
          "height": 68
        }
      },
      "source": [
        "man_1 = Manzana(color='rojo', peso=150)\n",
        "man_2 = Manzana(color='verde', peso=135)\n",
        "man_1.vende_man(cajero=\"Juan Roig\", precio=\"0.25 euros\")"
      ],
      "execution_count": 100,
      "outputs": [
        {
          "output_type": "stream",
          "text": [
            "Hola buenas tardes soy Juan Roig\n",
            "La manzana que he comprado es de color rojo y pesa 150 gramos\n",
            "además su precio desde el COVID ha subido y es de 0.25 euros\n"
          ],
          "name": "stdout"
        }
      ]
    },
    {
      "cell_type": "code",
      "metadata": {
        "id": "VnuVzIhG8-sQ"
      },
      "source": [
        "class Basket:\n",
        "  def __init__(self):\n",
        "    self.apple_list = []\n",
        "\n",
        "  def insert_apple(self, manzana):\n",
        "    if isinstance(manzana, Manzana):\n",
        "      self.apple_list.append(manzana)\n",
        "    else:\n",
        "      raise Exception(\"Esto no es una manzana\")\n",
        "\n",
        "  def describe_man(self):\n",
        "    print(f\"Tengo {len(self.apple_list)} manzanas\")\n",
        "    for manzana in self.apple_list:\n",
        "      manzana.describe_man()"
      ],
      "execution_count": 98,
      "outputs": []
    },
    {
      "cell_type": "code",
      "metadata": {
        "id": "p4SePNpYG4le",
        "outputId": "76e2e2c7-03ba-47d9-cae8-6b1f78b44ee6",
        "colab": {
          "base_uri": "https://localhost:8080/",
          "height": 68
        }
      },
      "source": [
        "basket = Basket()\n",
        "basket.insert_apple(man_1)\n",
        "basket.insert_apple(man_2)\n",
        "basket.describe_man()"
      ],
      "execution_count": 101,
      "outputs": [
        {
          "output_type": "stream",
          "text": [
            "Tengo 2 manzanas\n",
            "La manzana que he comprado es de color rojo y pesa 150 gramos\n",
            "La manzana que he comprado es de color verde y pesa 135 gramos\n"
          ],
          "name": "stdout"
        }
      ]
    },
    {
      "cell_type": "code",
      "metadata": {
        "id": "Mpe4K1TgIJOm"
      },
      "source": [
        "\n",
        "class Basket:\n",
        "  def __init__(self):\n",
        "    self.apple_list = []\n",
        "\n",
        "  def insert_apple(self, manzana):\n",
        "    if isinstance(manzana, Manzana):\n",
        "      self.apple_list.append(manzana)\n",
        "    else:\n",
        "      raise Exception(\"Esto no es una manzana\")\n",
        "\n",
        "  def describe_man(self):\n",
        "    print(f\"Tengo {len(self.apple_list)} manzanas\")\n",
        "    for manzana in self.apple_list:\n",
        "      manzana.describe_man()\n",
        "  @staticmethod\n",
        "  def tragon(Manzana):\n",
        "    print(f\"La manzana de color {Manzana.color} se la ha zampado Paco Roig\")"
      ],
      "execution_count": 112,
      "outputs": []
    },
    {
      "cell_type": "code",
      "metadata": {
        "id": "e88xZfbWIlxo",
        "outputId": "d6eab876-574c-4d80-ad4b-3382b0468ef3",
        "colab": {
          "base_uri": "https://localhost:8080/",
          "height": 34
        }
      },
      "source": [
        "basket=Basket()\n",
        "basket.tragon(man_1)"
      ],
      "execution_count": 113,
      "outputs": [
        {
          "output_type": "stream",
          "text": [
            "La manzana de color rojo se la ha zampado Paco Roig\n"
          ],
          "name": "stdout"
        }
      ]
    },
    {
      "cell_type": "code",
      "metadata": {
        "id": "GPzcAr-8Pf4v"
      },
      "source": [
        "#class Basket2:# es otra opción de generar lo de manzanas\n",
        "\n",
        "#def __init__(self, manzanas):\n",
        "    #self.manzanas = []\n",
        "    #for manzana in manzanas:\n",
        "      #if isinstance(manzana, Manzana2):\n",
        "        #self.manzanas.append(manzana)\n",
        "      #else:\n",
        "        #raise Exception(\"manzana no es una clase de tipo Manzana\")\n",
        "\n",
        "#def describe_manzanas(self):\n",
        "    #for manzana in self.manzanas:\n",
        "      #manzana.describe_manzana()"
      ],
      "execution_count": null,
      "outputs": []
    },
    {
      "cell_type": "code",
      "metadata": {
        "id": "S6yQpEldP1Z9"
      },
      "source": [
        ""
      ],
      "execution_count": null,
      "outputs": []
    }
  ]
}